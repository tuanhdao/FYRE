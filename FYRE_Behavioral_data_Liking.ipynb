{
  "nbformat": 4,
  "nbformat_minor": 0,
  "metadata": {
    "colab": {
      "name": "FYRE Behavioral data Liking.ipynb",
      "provenance": [],
      "toc_visible": true,
      "mount_file_id": "1zZ6zDhnHC7jhecf-XPMP1AGg6mzQzCQk",
      "authorship_tag": "ABX9TyPBdoRZyLpw1zElCGBJIj82",
      "include_colab_link": true
    },
    "kernelspec": {
      "name": "python3",
      "display_name": "Python 3"
    }
  },
  "cells": [
    {
      "cell_type": "markdown",
      "metadata": {
        "id": "view-in-github",
        "colab_type": "text"
      },
      "source": [
        "<a href=\"https://colab.research.google.com/github/tuanhdao/FYRE/blob/main/FYRE_Behavioral_data_Liking.ipynb\" target=\"_parent\"><img src=\"https://colab.research.google.com/assets/colab-badge.svg\" alt=\"Open In Colab\"/></a>"
      ]
    },
    {
      "cell_type": "markdown",
      "metadata": {
        "id": "c1IYMwQY8LFv"
      },
      "source": [
        "Exporting liking ratings"
      ]
    },
    {
      "cell_type": "code",
      "metadata": {
        "id": "UplGSTXX8a9j"
      },
      "source": [
        "# Import packages\r\n",
        "import json\r\n",
        "import pandas as pd\r\n",
        "import csv\r\n",
        "from IPython.display import display\r\n",
        "\r\n",
        "#Open JSON file - change to your own path\r\n",
        "with open(\"/content/FYRE1022_survivor-1024 (1).json\", \"r\") as read_file:\r\n",
        "    data = json.load(read_file)\r\n",
        "#Get FYRE ID\r\n",
        "    subject_info = data[\"subject\"]\r\n",
        "#Get likability ratings from dictionary \r\n",
        "#First access pre ratings through a nested dictionary\r\n",
        "    pre_data = data[\"round\"][0][\"likability_rating\"]\r\n",
        "#For some reason post data is more easily accessible\r\n",
        "    post_data = data [\"likability_rating\"]\r\n",
        "    pre_rating = pre_data[\"pre\"]\r\n",
        "    pre_rating_values = pre_rating[\"ratings\"]\r\n",
        "    post_rating = post_data[\"post\"]\r\n",
        "    post_rating_values = post_rating[\"ratings\"]\r\n",
        "#Create dataframes\r\n",
        "    pre_df = pd.DataFrame(pre_rating_values, index = [\"Pre\"])\r\n",
        "    post_df = pd.DataFrame(post_rating_values, index = [\"Post\"])\r\n",
        "#Concatenate pre and post ratings\r\n",
        "    frames = [pre_df, post_df]\r\n",
        "    result = pd.concat(frames)\r\n",
        "    result_df = pd.DataFrame(result)\r\n",
        "    transposed = result_df.transpose()\r\n",
        "#Change the path\r\n",
        "    transposed.to_csv(\"/content/drive/MyDrive/FYRE Behavior/Voting/\" + \"{}.csv\".format(outfilename), index = False)\r\n",
        "\r\n",
        "  "
      ],
      "execution_count": null,
      "outputs": []
    },
    {
      "cell_type": "code",
      "metadata": {
        "id": "D7hVTzWGpAsJ"
      },
      "source": [
        "import glob\r\n",
        "#Edit to include your folder path\r\n",
        "path = r'/content/drive/MyDrive/FYRE Behavior/Voting' \r\n",
        "all_files = glob.glob(path + \"/*.csv\")\r\n",
        "\r\n",
        "li = []\r\n",
        "\r\n",
        "for filename in all_files:\r\n",
        "    df = pd.read_csv(filename, index_col=None, header=0)\r\n",
        "    li.append(df)\r\n",
        "#Edit to include your folder path\r\n",
        "final_liking = pd.concat(li, axis=0, ignore_index=True)\r\n",
        "final_liking.to_csv(\"/content/drive/MyDrive/FYRE Behavior/Final_liking.csv\",index = False)"
      ],
      "execution_count": null,
      "outputs": []
    }
  ]
}