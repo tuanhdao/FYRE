{
  "nbformat": 4,
  "nbformat_minor": 0,
  "metadata": {
    "colab": {
      "name": "FYRE Behavioral data Liking.ipynb",
      "provenance": [],
      "toc_visible": true,
      "mount_file_id": "1zZ6zDhnHC7jhecf-XPMP1AGg6mzQzCQk",
      "authorship_tag": "ABX9TyN4G88VZdOhHeJ1AwEZtQgP",
      "include_colab_link": true
    },
    "kernelspec": {
      "name": "python3",
      "display_name": "Python 3"
    }
  },
  "cells": [
    {
      "cell_type": "markdown",
      "metadata": {
        "id": "view-in-github",
        "colab_type": "text"
      },
      "source": [
        "<a href=\"https://colab.research.google.com/github/tuanhdao/FYRE/blob/main/FYRE_Behavioral_data_Liking.ipynb\" target=\"_parent\"><img src=\"https://colab.research.google.com/assets/colab-badge.svg\" alt=\"Open In Colab\"/></a>"
      ]
    },
    {
      "cell_type": "markdown",
      "metadata": {
        "id": "c1IYMwQY8LFv"
      },
      "source": [
        "# New Section"
      ]
    },
    {
      "cell_type": "code",
      "metadata": {
        "id": "UplGSTXX8a9j",
        "colab": {
          "base_uri": "https://localhost:8080/",
          "height": 229
        },
        "outputId": "3ec81652-4d54-47c4-d27a-e4cd25286f48"
      },
      "source": [
        "# Import packages\r\n",
        "import json\r\n",
        "import pandas as pd\r\n",
        "import csv\r\n",
        "from IPython.display import display\r\n",
        "\r\n",
        "#Open JSON file\r\n",
        "with open(\"/content/FYRE1022_survivor-1024 (1).json\", \"r\") as read_file:\r\n",
        "    data = json.load(read_file)\r\n",
        "#Get FYRE ID\r\n",
        "    subject_info = data[\"subject\"]\r\n",
        "#Get likability ratings from dictionary \r\n",
        "#First access pre ratings through a nested dictionary\r\n",
        "    pre_data = data[\"round\"][0][\"likability_rating\"]\r\n",
        "#For some reason post data is more easily accessible\r\n",
        "    post_data = data [\"likability_rating\"]\r\n",
        "    pre_rating = pre_data[\"pre\"]\r\n",
        "    pre_rating_values = pre_rating[\"ratings\"]\r\n",
        "    post_rating = post_data[\"post\"]\r\n",
        "    post_rating_values = post_rating[\"ratings\"]\r\n",
        "#Create dataframes\r\n",
        "    pre_df = pd.DataFrame(pre_rating_values, index = [\"Pre\"])\r\n",
        "    post_df = pd.DataFrame(post_rating_values, index = [\"Post\"])\r\n",
        "#Concatenate pre and post ratings\r\n",
        "    frames = [pre_df, post_df]\r\n",
        "    result = pd.concat(frames)\r\n",
        "    result_df = pd.DataFrame(result)\r\n",
        "    transposed = result_df.transpose()\r\n",
        "    transposed.to_csv(r'/content/drive/MyDrive/FYRE Behavior/test.csv', \r\n",
        "                       index = False)\r\n",
        "\r\n",
        "  "
      ],
      "execution_count": 1,
      "outputs": [
        {
          "output_type": "error",
          "ename": "FileNotFoundError",
          "evalue": "ignored",
          "traceback": [
            "\u001b[0;31m---------------------------------------------------------------------------\u001b[0m",
            "\u001b[0;31mFileNotFoundError\u001b[0m                         Traceback (most recent call last)",
            "\u001b[0;32m<ipython-input-1-2eeb49554456>\u001b[0m in \u001b[0;36m<module>\u001b[0;34m()\u001b[0m\n\u001b[1;32m      6\u001b[0m \u001b[0;34m\u001b[0m\u001b[0m\n\u001b[1;32m      7\u001b[0m \u001b[0;31m#Open JSON file\u001b[0m\u001b[0;34m\u001b[0m\u001b[0;34m\u001b[0m\u001b[0;34m\u001b[0m\u001b[0m\n\u001b[0;32m----> 8\u001b[0;31m \u001b[0;32mwith\u001b[0m \u001b[0mopen\u001b[0m\u001b[0;34m(\u001b[0m\u001b[0;34m\"/content/FYRE1022_survivor-1024 (1).json\"\u001b[0m\u001b[0;34m,\u001b[0m \u001b[0;34m\"r\"\u001b[0m\u001b[0;34m)\u001b[0m \u001b[0;32mas\u001b[0m \u001b[0mread_file\u001b[0m\u001b[0;34m:\u001b[0m\u001b[0;34m\u001b[0m\u001b[0;34m\u001b[0m\u001b[0m\n\u001b[0m\u001b[1;32m      9\u001b[0m     \u001b[0mdata\u001b[0m \u001b[0;34m=\u001b[0m \u001b[0mjson\u001b[0m\u001b[0;34m.\u001b[0m\u001b[0mload\u001b[0m\u001b[0;34m(\u001b[0m\u001b[0mread_file\u001b[0m\u001b[0;34m)\u001b[0m\u001b[0;34m\u001b[0m\u001b[0;34m\u001b[0m\u001b[0m\n\u001b[1;32m     10\u001b[0m \u001b[0;31m#Get FYRE ID\u001b[0m\u001b[0;34m\u001b[0m\u001b[0;34m\u001b[0m\u001b[0;34m\u001b[0m\u001b[0m\n",
            "\u001b[0;31mFileNotFoundError\u001b[0m: [Errno 2] No such file or directory: '/content/FYRE1022_survivor-1024 (1).json'"
          ]
        }
      ]
    }
  ]
}